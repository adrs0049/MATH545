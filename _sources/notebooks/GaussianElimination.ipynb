{
 "cells": [
  {
   "cell_type": "code",
   "execution_count": 1,
   "id": "b847b188",
   "metadata": {},
   "outputs": [],
   "source": [
    "# Math 545: uMass Amherst Spring 2024\n",
    "%load_ext autoreload\n",
    "%autoreload 2\n",
    "\n",
    "import os\n",
    "import numpy as np\n",
    "import scipy as sp\n",
    "import scipy.linalg as LA\n",
    "import matplotlib.pyplot as plt\n",
    "\n",
    "# For output\n",
    "homedir = os.path.expanduser('~')"
   ]
  },
  {
   "cell_type": "markdown",
   "id": "5a37f2e7-0676-49c2-bd4a-01e32a6a5d7d",
   "metadata": {},
   "source": [
    "# Special solving functions"
   ]
  },
  {
   "cell_type": "code",
   "execution_count": 28,
   "id": "93e06549-273b-46bc-a27e-5273c79c37ca",
   "metadata": {},
   "outputs": [],
   "source": [
    "def backSolve(A):\n",
    "    \"\"\"\n",
    "        Assumes that A is an upper triangular augmented matrix.\n",
    "    \"\"\"\n",
    "    A = A.astype(float)\n",
    "    nrows = A.shape[0]\n",
    "    ncols = A.shape[1]\n",
    "    x = np.empty(ncols-1)\n",
    "    for i in range(x.size - 1, -1, -1):\n",
    "        # Compute the sum\n",
    "        sum = 0\n",
    "        for j in range(i+1, ncols-1):\n",
    "            sum += A[i, j] * x[j]\n",
    "        \n",
    "        x[i] = (A[i, ncols-1] - sum) / A[i, i]\n",
    "        \n",
    "    return x"
   ]
  },
  {
   "cell_type": "markdown",
   "id": "409bfe56-2699-4e6b-98df-c3ea391723a1",
   "metadata": {},
   "source": [
    "# Gaussian Elimination"
   ]
  },
  {
   "cell_type": "code",
   "execution_count": 31,
   "id": "0642233b",
   "metadata": {},
   "outputs": [],
   "source": [
    "def gaussElim(A):\n",
    "    \"\"\"\n",
    "        Perform GE. Does overwrite elements below diagonal\n",
    "    \"\"\"\n",
    "    nrows = A.shape[0]\n",
    "    ncols = A.shape[1]\n",
    "    \n",
    "    for k in range(ncols-1):         # Iterate over all columns\n",
    "        for i in range(k+1, nrows):  # Walk down the column\n",
    "            lik = A[i, k] / A[k, k]\n",
    "            \n",
    "            # Do row operation\n",
    "            for j in range(k, ncols): \n",
    "                A[i, j] -= lik * A[k, j]\n",
    "    \n",
    "    return A"
   ]
  },
  {
   "cell_type": "code",
   "execution_count": 32,
   "id": "f3e4e738-56b4-4a2c-a664-406adcc5e90d",
   "metadata": {},
   "outputs": [
    {
     "name": "stdout",
     "output_type": "stream",
     "text": [
      "[[ 2  1  3  1]\n",
      " [ 0  2  1 -1]\n",
      " [ 0  0  4  4]]\n",
      "[-0.5 -1.   1. ]\n"
     ]
    }
   ],
   "source": [
    "# Example\n",
    "A = np.array([[2, 1, 3, 1],\n",
    "              [4, 4, 7, 1],\n",
    "              [2, 5, 9, 3]])\n",
    "\n",
    "A = gaussElim(A)\n",
    "x = backSolve(A)\n",
    "\n",
    "print(A)\n",
    "print(x)"
   ]
  },
  {
   "cell_type": "code",
   "execution_count": null,
   "id": "c10951f4-229c-4bc4-bc77-f19bee4a8d2a",
   "metadata": {},
   "outputs": [],
   "source": []
  },
  {
   "cell_type": "code",
   "execution_count": null,
   "id": "aaafbd08-02e7-4026-bdb9-2a64b76977d7",
   "metadata": {},
   "outputs": [],
   "source": []
  }
 ],
 "metadata": {
  "kernelspec": {
   "display_name": "Python 3 (ipykernel)",
   "language": "python",
   "name": "python3"
  },
  "language_info": {
   "codemirror_mode": {
    "name": "ipython",
    "version": 3
   },
   "file_extension": ".py",
   "mimetype": "text/x-python",
   "name": "python",
   "nbconvert_exporter": "python",
   "pygments_lexer": "ipython3",
   "version": "3.11.7"
  },
  "widgets": {
   "application/vnd.jupyter.widget-state+json": {
    "state": {},
    "version_major": 2,
    "version_minor": 0
   }
  }
 },
 "nbformat": 4,
 "nbformat_minor": 5
}
